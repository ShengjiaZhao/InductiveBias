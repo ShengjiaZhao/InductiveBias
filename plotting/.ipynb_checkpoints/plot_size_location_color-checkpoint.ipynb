{
 "cells": [
  {
   "cell_type": "code",
   "execution_count": null,
   "metadata": {
    "collapsed": true
   },
   "outputs": [],
   "source": [
    "from matplotlib import pyplot as plt\n",
    "import numpy as np\n",
    "import sys\n",
    "sys.path.append('../')\n",
    "from dataset import *\n",
    "import seaborn as sns"
   ]
  },
  {
   "cell_type": "code",
   "execution_count": null,
   "metadata": {
    "collapsed": true
   },
   "outputs": [],
   "source": [
    "log_path = '/home/ubuntu/data/logr'\n",
    "model = 'gan/model=gaussian_wgan-zdim=100-lr=-4.00-rep=2'\n",
    "iteration = 1"
   ]
  },
  {
   "cell_type": "code",
   "execution_count": null,
   "metadata": {
    "collapsed": true
   },
   "outputs": [],
   "source": [
    "size_path = 'crand_150_0_%d/%s-run=10/samples%d.npz',\n",
    "location_path = 'crand_150_1_%d/%s-run=10/samples%d.npz'\n",
    "color_path = 'crand_150_3_%d/%s-run=10/samples%d.npz'"
   ]
  },
  {
   "cell_type": "code",
   "execution_count": null,
   "metadata": {
    "collapsed": true
   },
   "outputs": [],
   "source": [
    "# Plot size\n",
    "size_configs = [1, 3, 5, 7, 9]\n",
    "size_hist = []\n",
    "size_bins = []\n",
    "for index, config in enumerate(size_configs):\n",
    "    samples = np.load(size_path % (config, model, iteration))['g']\n",
    "    vals = DotsDataset.eval_size(samples)\n",
    "    hist, bins = np.histogram(vals, bins=60, range=(0.3, 0.8))\n",
    "    hist = hist.astype(np.float)\n",
    "    hist /= np.sum(hist)\n",
    "    size_bins.append(0.5*(bins[1:]+bins[:-1]))\n",
    "    size_hist.append(hist)\n",
    "\n",
    "def size_to_val(config):\n",
    "    return config / 20.0 + 0.35"
   ]
  },
  {
   "cell_type": "code",
   "execution_count": null,
   "metadata": {
    "collapsed": true
   },
   "outputs": [],
   "source": [
    "loc_configs = [1, 3, 5, 7, 9]\n",
    "loc_hist = []\n",
    "loc_bins = []\n",
    "for index, config in enumerate(loc_configs):\n",
    "    samples = np.load(loc_path % (config, model, iteration))['g']\n",
    "    vals = DotsDataset.eval_location(samples)[:, 0]\n",
    "    hist, bins = np.histogram(vals, bins=50, range=(-0.4, 0.4))\n",
    "    hist = hist.astype(np.float)\n",
    "    hist /= np.sum(hist)\n",
    "    loc_bins.append(0.5*(bins[1:]+bins[:-1]))\n",
    "    loc_hist.append(hist)\n",
    "\n",
    "def loc_to_val(config):\n",
    "    return (config - 5) / 20.0"
   ]
  },
  {
   "cell_type": "code",
   "execution_count": null,
   "metadata": {
    "collapsed": true
   },
   "outputs": [],
   "source": [
    "# Plot colors\n",
    "color_configs = [1, 3, 5, 7, 9]\n",
    "color_hist = []\n",
    "color_bins = []\n",
    "for index, config in enumerate(color_configs):\n",
    "    samples = np.load(color_path % (config, model, iteration))['g']\n",
    "    vals = DotsDataset.eval_color_proportion(samples)\n",
    "    hist, bins = np.histogram(vals, bins=50, range=(0, 1))\n",
    "    hist = hist.astype(np.float)\n",
    "    hist /= np.sum(hist)\n",
    "    color_bins.append(0.5*(bins[1:]+bins[:-1]))\n",
    "    color_hist.append(hist)\n",
    "\n",
    "def color_to_val(config):\n",
    "    return color / 10.0"
   ]
  },
  {
   "cell_type": "code",
   "execution_count": null,
   "metadata": {
    "collapsed": true
   },
   "outputs": [],
   "source": [
    "plt.figure(figsize=(15, 4))\n",
    "plt.subplot(1, 3, 3)\n",
    "for index in range(len(size_configs)):\n",
    "    plt.plot(size_bins[index], size_hist[index], \n",
    "             label='%.2f' % (size_configs[index] / 10.0), \n",
    "             c=sns.color_palette(\"husl\", len(size_configs))[index])\n",
    "    plt.axvline(x=size_to_val(size_configs[index]), c=sns.color_palette(\"hls\", len(fractions))[index], ls=':', lw=1)\n",
    "plt.legend()\n",
    "plt.xlabel('size of generated circle')\n",
    "plt.ylabel('frequency in samples')\n",
    "\n",
    "plt.subplot(1, 3, 2)\n",
    "for index in range(len(size_configs)):\n",
    "    plt.plot(size_bins[index], size_hist[index], \n",
    "             label='%.2f' % (loc_to_val(loc_configs[index])), \n",
    "             c=sns.color_palette(\"husl\", len(size_configs))[index])\n",
    "    plt.axvline(x=loc_to_val(loc_configs[index]), c=sns.color_palette(\"hls\", len(fractions))[index], ls=':', lw=1)\n",
    "plt.legend()\n",
    "plt.xlabel('location of generated circle')\n",
    "plt.ylabel('frequency in samples')\n",
    "\n",
    "plt.subplot(1, 3, 3)\n",
    "for index in range(len(color_configs)):\n",
    "    plt.plot(color_bins[index], color_hist[index], \n",
    "             label='%.2f' % (color_to_val(color_configs[index])), \n",
    "             c=sns.color_palette(\"husl\", len(size_configs))[index])\n",
    "    plt.axvline(x=color_to_val(color_configs[index]), c=sns.color_palette(\"hls\", len(fractions))[index], ls=':', lw=1)\n",
    "plt.legend()\n",
    "plt.xlabel('proportion of red color')\n",
    "plt.ylabel('frequency in samples')\n",
    "\n",
    "plt.tight_layout()\n",
    "plt.savefig('../results/circle_size_wgan.pdf')\n",
    "plt.show()"
   ]
  }
 ],
 "metadata": {
  "kernelspec": {
   "display_name": "Python 3",
   "language": "python",
   "name": "python3"
  },
  "language_info": {
   "codemirror_mode": {
    "name": "ipython",
    "version": 3
   },
   "file_extension": ".py",
   "mimetype": "text/x-python",
   "name": "python",
   "nbconvert_exporter": "python",
   "pygments_lexer": "ipython3",
   "version": "3.5.2"
  }
 },
 "nbformat": 4,
 "nbformat_minor": 2
}

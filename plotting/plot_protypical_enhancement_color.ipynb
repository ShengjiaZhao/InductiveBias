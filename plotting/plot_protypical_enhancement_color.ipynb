{
 "cells": [
  {
   "cell_type": "code",
   "execution_count": 1,
   "metadata": {},
   "outputs": [
    {
     "name": "stderr",
     "output_type": "stream",
     "text": [
      "/usr/local/lib/python3.5/dist-packages/h5py/__init__.py:36: FutureWarning: Conversion of the second argument of issubdtype from `float` to `np.floating` is deprecated. In future, it will be treated as `np.float64 == np.dtype(float).type`.\n",
      "  from ._conv import register_converters as _register_converters\n"
     ]
    }
   ],
   "source": [
    "from matplotlib import pyplot as plt\n",
    "import numpy as np\n",
    "import sys\n",
    "sys.path.append('../')\n",
    "from dataset import *\n",
    "import seaborn as sns"
   ]
  },
  {
   "cell_type": "code",
   "execution_count": 2,
   "metadata": {
    "collapsed": true
   },
   "outputs": [],
   "source": [
    "log_path = '/home/ubuntu/data/logr'\n",
    "model = 'gan/model=gaussian_wgan-zdim=100-lr=-4.00-rep=2'\n",
    "iteration = 1"
   ]
  },
  {
   "cell_type": "code",
   "execution_count": 3,
   "metadata": {
    "collapsed": true
   },
   "outputs": [],
   "source": [
    "mixture_path = 'crand_150_3_3%d/%s-run=10/samples%d.npz',\n",
    "single_path = 'crand_150_3_%d/%s-run=10/samples%d.npz'"
   ]
  },
  {
   "cell_type": "code",
   "execution_count": null,
   "metadata": {
    "collapsed": true
   },
   "outputs": [],
   "source": [
    "fractions = [4, 5, 7, 9]\n",
    "mixture_hist = []\n",
    "for index, fraction in enumerate(fractions):\n",
    "    samples = np.load(mixture_path % (fraction, model, iteration))['g']\n",
    "    proportions = DotsDataset.eval_color_proportion(samples)\n",
    "    hist, bins = np.histogram(mixture_props[index], range=(0, 1), bins=40)\n",
    "    hist = hist.astype(np.float)\n",
    "    hist /= np.sum(hist)\n",
    "    mixture_hist.append(hist)"
   ]
  },
  {
   "cell_type": "code",
   "execution_count": null,
   "metadata": {
    "collapsed": true
   },
   "outputs": [],
   "source": [
    "samples3 = np.load(single_path % (3, model, iteration))['g']\n",
    "proportions3 = DotsDataset.eval_color_proportion(samples3)\n",
    "hist3, _ = np.histogram(proportions3, range=(0, 1), bins=40)\n",
    "hist3 = hist3.astype(np.float)\n",
    "\n",
    "for index, fraction in enumerate(fractions):\n",
    "    samples = np.load(path_template % (fraction, model, iteration))['g']\n",
    "    proportions = DotsDataset.eval_color_proportion(samples)\n",
    "    hist, bins = np.histogram(proportions, range=(0, 1), bins=40)\n",
    "    hist = hist.astype(np.float) + hist3\n",
    "    hist /= np.sum(hist)\n",
    "    single_hist.append(hist)"
   ]
  },
  {
   "cell_type": "code",
   "execution_count": null,
   "metadata": {
    "collapsed": true
   },
   "outputs": [],
   "source": [
    "plt.figure(figsize=(12, 5))\n",
    "plt.subplot(1, 2, 1)\n",
    "for index in range(len(fractions)):\n",
    "    plt.plot(0.5*(bins[1:]+bins[:-1]), mixture_hist[index], label=fractions[index], \n",
    "             c=sns.color_palette(\"husl\", len(fractions))[index])\n",
    "plt.xlabel('proportion of red color')\n",
    "plt.ylabel('frequency in samples')\n",
    "\n",
    "plt.subplot(1, 2, 2)\n",
    "for index in range(len(fractions)):\n",
    "    plt.plot(0.5*(bins[1:]+bins[:-1]), single_hist[index], label='.%d+.3' % fraction, \n",
    "             c=sns.color_palette(\"husl\", len(fractions))[index])\n",
    "plt.legend()\n",
    "plt.xlabel('proportion of red pixels')\n",
    "plt.ylabel('frequency in samples')\n",
    "\n",
    "plt.tight_layout()\n",
    "plt.savefig('../results/red_proportion_multiband_wgan.pdf')\n",
    "plt.show()"
   ]
  }
 ],
 "metadata": {
  "kernelspec": {
   "display_name": "Python 3",
   "language": "python",
   "name": "python3"
  },
  "language_info": {
   "codemirror_mode": {
    "name": "ipython",
    "version": 3
   },
   "file_extension": ".py",
   "mimetype": "text/x-python",
   "name": "python",
   "nbconvert_exporter": "python",
   "pygments_lexer": "ipython3",
   "version": "3.5.2"
  }
 },
 "nbformat": 4,
 "nbformat_minor": 2
}
